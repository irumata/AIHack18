{
 "cells": [
  {
   "cell_type": "code",
   "execution_count": 526,
   "metadata": {},
   "outputs": [],
   "source": [
    "import pandas as pd\n",
    "import pickle\n",
    "import numpy as np\n",
    "from sklearn.cluster import KMeans\n",
    "%matplotlib inline"
   ]
  },
  {
   "cell_type": "code",
   "execution_count": 394,
   "metadata": {
    "scrolled": true
   },
   "outputs": [],
   "source": [
    "def metrics(p, t):\n",
    "    return 200 * pd.DataFrame(np.fabs(p - t) / (np.fabs(p) + np.fabs(t))).mean()[0]"
   ]
  },
  {
   "cell_type": "code",
   "execution_count": 564,
   "metadata": {},
   "outputs": [],
   "source": [
    "with open('./data/data_with_date2.p', 'rb') as f:\n",
    "    df_ = pickle.load(f)"
   ]
  },
  {
   "cell_type": "code",
   "execution_count": null,
   "metadata": {
    "scrolled": true
   },
   "outputs": [],
   "source": [
    "df_['date'] = df_['DATET']\n",
    "df_.drop('DATET', inplace=True, axis=1)"
   ]
  },
  {
   "cell_type": "code",
   "execution_count": 576,
   "metadata": {},
   "outputs": [],
   "source": [
    "df_[\"day\"] = df_.date.dt.day\n",
    "df_[\"dayofweek\"] = df_.date.dt.dayofweek\n",
    "df_[\"is_month_end\"] = df_.date.dt.is_month_end.astype(int)\n",
    "df_[\"is_month_start\"] = df_.date.dt.is_month_start.astype(int)\n",
    "df_[\"week\"] = df_.date.dt.week\n",
    "df_[\"weekend\"] = (df_.date.dt.dayofweek>=5).astype(int)"
   ]
  },
  {
   "cell_type": "code",
   "execution_count": 232,
   "metadata": {},
   "outputs": [
    {
     "data": {
      "text/plain": [
       "'\\nДля каждой АЗС посчитать цены на бензин и посчитать персентили\\n\\n'"
      ]
     },
     "execution_count": 232,
     "metadata": {},
     "output_type": "execute_result"
    }
   ],
   "source": [
    "'''\n",
    "Для каждой АЗС посчитать цены на бензин и посчитать персентили\n",
    "\n",
    "'''"
   ]
  },
  {
   "cell_type": "code",
   "execution_count": 873,
   "metadata": {},
   "outputs": [],
   "source": [
    "df_train = df_[\n",
    "#     (df_.date >= pd.Timestamp('20171230') - pd.Timedelta(\"220 day\")) &\n",
    "    (df_.date <= pd.Timestamp('20171230') - pd.Timedelta(\"90 day\"))\n",
    "].copy()"
   ]
  },
  {
   "cell_type": "code",
   "execution_count": 847,
   "metadata": {},
   "outputs": [],
   "source": [
    "df_test = df_[\n",
    "    (df_.date > pd.Timestamp('20171230') - pd.Timedelta(\"90 day\"))\n",
    "].copy()"
   ]
  },
  {
   "cell_type": "code",
   "execution_count": 877,
   "metadata": {},
   "outputs": [
    {
     "name": "stderr",
     "output_type": "stream",
     "text": [
      "/usr/anaconda3/lib/python3.6/site-packages/IPython/core/interactiveshell.py:2728: DtypeWarning: Columns (0) have mixed types. Specify dtype option on import or set low_memory=False.\n",
      "  interactivity=interactivity, compiler=compiler, result=result)\n"
     ]
    }
   ],
   "source": [
    "df_test = pd.read_csv(\"./data/test_data.csv\")\n",
    "df_test_full = pd.read_csv(\"./data/full_test_data.csv\")\n",
    "df_train = df_.copy()"
   ]
  },
  {
   "cell_type": "code",
   "execution_count": 878,
   "metadata": {},
   "outputs": [
    {
     "name": "stdout",
     "output_type": "stream",
     "text": [
      "(209828,) (790172,)\n",
      "(154071,) (55757,)\n",
      "(1041,) (153030,)\n",
      "(1041,) (0,)\n"
     ]
    }
   ],
   "source": [
    "gfields = [\"REGION_AZS\", \"VID_NP\", \"CLIENT\", \"AZS_NUMBER\"]#\"REGION_AZS\", 'AZS_NUMBER', \"REGION_AZS\", \n",
    "\n",
    "df_res = pd.DataFrame(columns=['ID', 'CLIENT', 'COL_LITR'])\n",
    "def get_pred(df_train, df_test, fields):\n",
    "    r = df_train.groupby(fields).agg({\"COL_LITR\":'median', \"ID\":\"count\"})\n",
    "    r.reset_index(inplace=True)\n",
    "    df_result = df_test[['ID'] + fields].merge(r[['COL_LITR'] + fields], how=\"left\", on=fields)\n",
    "    \n",
    "    return df_result\n",
    "\n",
    "# df_train_ = df_train.copy()\n",
    "df_test_ = df_test.copy()\n",
    "\n",
    "for i in range(len(gfields)):\n",
    "    fields = gfields[:len(gfields)-i]\n",
    "    \n",
    "    result = get_pred(df_train, df_test_, fields)\n",
    "    \n",
    "    idx_na = result[result.COL_LITR.isnull()].index\n",
    "    idx = result[result.COL_LITR.isnull() == False].index\n",
    "    \n",
    "    print(idx_na.shape, idx.shape)\n",
    "    \n",
    "    df_res = pd.concat([df_res, result.iloc[idx][['ID', 'COL_LITR']]], axis=0)#, 'CLIENT'\n",
    "    \n",
    "    df_test_ = df_test_.iloc[idx_na].copy()\n"
   ]
  },
  {
   "cell_type": "code",
   "execution_count": 879,
   "metadata": {},
   "outputs": [],
   "source": [
    "predict = df_test[['ID']].merge(df_res, how='left', on=\"ID\")"
   ]
  },
  {
   "cell_type": "code",
   "execution_count": 830,
   "metadata": {},
   "outputs": [
    {
     "data": {
      "text/plain": [
       "39.18509396048809"
      ]
     },
     "execution_count": 830,
     "metadata": {},
     "output_type": "execute_result"
    }
   ],
   "source": [
    "predict['true'] = df_test['COL_LITR'].values\n",
    "metrics(predict['COL_LITR'].fillna(40).values, predict['true'].values)"
   ]
  },
  {
   "cell_type": "code",
   "execution_count": 880,
   "metadata": {},
   "outputs": [],
   "source": [
    "df_test_target = df_test_full.copy()\n",
    "# df_test_target = pd.read_csv(\"./data/full_test_data.csv\")\n",
    "df_test_target['COL_LITR'] = 40\n",
    "X_tst, y_tst = train_xgb(df_test_target)"
   ]
  },
  {
   "cell_type": "code",
   "execution_count": null,
   "metadata": {},
   "outputs": [],
   "source": []
  },
  {
   "cell_type": "code",
   "execution_count": null,
   "metadata": {},
   "outputs": [],
   "source": []
  },
  {
   "cell_type": "code",
   "execution_count": 882,
   "metadata": {},
   "outputs": [],
   "source": [
    "X_tst['COL_LITR'] = regressor.predict(X_tst.drop(['CLIENT', 'AZS_NUMBER'], axis=1))"
   ]
  },
  {
   "cell_type": "code",
   "execution_count": 883,
   "metadata": {},
   "outputs": [],
   "source": [
    "df_prepare = df_test[[\"CLIENT\", \"VID_NP\",\"REGION_AZS\", \"AZS_NUMBER\", \"ID\"]].merge(X_tst[[\"CLIENT\", \"VID_NP\",\"REGION_AZS\", \"AZS_NUMBER\", \"COL_LITR\"]], how='left', on=[\"CLIENT\", \"VID_NP\",\"REGION_AZS\", \"AZS_NUMBER\"])"
   ]
  },
  {
   "cell_type": "code",
   "execution_count": 884,
   "metadata": {},
   "outputs": [],
   "source": [
    "df_pred_merge = pd.DataFrame(predict[predict.COL_LITR.isnull()]['ID']).\\\n",
    "    merge(df_prepare[['ID', 'COL_LITR']], how='left', on='ID')"
   ]
  },
  {
   "cell_type": "code",
   "execution_count": 885,
   "metadata": {
    "scrolled": true
   },
   "outputs": [
    {
     "name": "stderr",
     "output_type": "stream",
     "text": [
      "/usr/anaconda3/lib/python3.6/site-packages/ipykernel_launcher.py:1: SettingWithCopyWarning: \n",
      "A value is trying to be set on a copy of a slice from a DataFrame\n",
      "\n",
      "See the caveats in the documentation: http://pandas.pydata.org/pandas-docs/stable/indexing.html#indexing-view-versus-copy\n",
      "  \"\"\"Entry point for launching an IPython kernel.\n"
     ]
    }
   ],
   "source": [
    "predict[\"COL_LITR\"][predict.COL_LITR.isnull()]=\\\n",
    "    predict[predict.COL_LITR.isnull()].ID.map(df_pred_merge.set_index(\"ID\").COL_LITR)"
   ]
  },
  {
   "cell_type": "code",
   "execution_count": 653,
   "metadata": {},
   "outputs": [
    {
     "data": {
      "text/plain": [
       "38.01786940847149"
      ]
     },
     "execution_count": 653,
     "metadata": {},
     "output_type": "execute_result"
    }
   ],
   "source": [
    "metrics(predict['COL_LITR'].values, predict['true'].values)\n",
    "# metrics(np.round(predict.fillna(40)['COL_LITR'].values), predict['true'].values)"
   ]
  },
  {
   "cell_type": "code",
   "execution_count": 886,
   "metadata": {},
   "outputs": [],
   "source": [
    "predict[['ID', 'COL_LITR']].to_csv(\"./submissions/kolesnikov_mk8.csv\", index=False)"
   ]
  },
  {
   "cell_type": "code",
   "execution_count": 887,
   "metadata": {},
   "outputs": [
    {
     "name": "stdout",
     "output_type": "stream",
     "text": [
      "DONE!!!!\n"
     ]
    }
   ],
   "source": [
    "print(\"DONE!!!!\")"
   ]
  },
  {
   "cell_type": "code",
   "execution_count": 874,
   "metadata": {},
   "outputs": [],
   "source": [
    "df_train_xgb = df_[\n",
    "    (df_.date >= pd.Timestamp('20171230') - pd.Timedelta(\"270 day\")) &\n",
    "    (df_.date <= pd.Timestamp('20171230') - pd.Timedelta(\"90 day\"))\n",
    "].copy()"
   ]
  },
  {
   "cell_type": "code",
   "execution_count": 832,
   "metadata": {},
   "outputs": [],
   "source": [
    "def train_xgb(df_train_xgb):\n",
    "    df_region = df_train_xgb.groupby(['REGION_AZS']).agg({\n",
    "        \"ID\":\"count\", \"CLIENT\": \"nunique\", \"AZS_NUMBER\":\"nunique\", \"CENA_CLIENT\":\"median\"\n",
    "    })\n",
    "    df_region = df_region.reset_index()\n",
    "    df_region.columns = ['REGION_AZS', 'REGION_COUNT', 'REGION_CLIENT_U', 'REGION_AZS_U', 'REGION_CENA_M']\n",
    "    \n",
    "    df_azs = df_train_xgb.groupby(['AZS_NUMBER']).agg({\n",
    "        \"ID\":\"count\", \"CLIENT\": \"nunique\", \"CENA_CLIENT\":{\"nunique\", \"median\"}\n",
    "    })\n",
    "    df_azs = df_azs.reset_index()\n",
    "    df_azs.columns = ['AZS_NUMBER', 'AZS_COUNT', 'AZS_CLIENT_U', 'AZS_CENA_CLIENT_M', 'AZS_CENA_CLIENT_U']\n",
    "    \n",
    "    df_client = df_train_xgb.groupby(['CLIENT']).agg({\n",
    "        \"ID\":\"count\", \"AZS_NUMBER\": \"nunique\", \"CENA_CLIENT\":{\"nunique\", \"median\"}, \"REGION_AZS\":\"nunique\"\n",
    "    })\n",
    "    df_client.columns = ['CLIENT_ID_COUNT', 'CLIENT_AZS_NUMBER_U', 'CLIENT_CENA_CLIENT_U', 'CLIENT_CENA_CLIENT_M', 'CLIENT_REGION_AZS_U']\n",
    "    df_client = df_client.reset_index()\n",
    "    \n",
    "    df_xgb = df_train_xgb.groupby([\"CLIENT\", \"VID_NP\",\"REGION_AZS\", \"AZS_NUMBER\"]).agg({'COL_LITR':'median'})\n",
    "    df_xgb = df_xgb.reset_index()\n",
    "    \n",
    "    df_xgb = df_xgb.merge(df_region, how=\"left\", left_on='REGION_AZS', right_on='REGION_AZS')\n",
    "    df_xgb = df_xgb.merge(df_azs, how=\"left\", left_on='AZS_NUMBER', right_on='AZS_NUMBER')\n",
    "    df_xgb = df_xgb.merge(df_client, how=\"left\", left_on='CLIENT', right_on='CLIENT')\n",
    "    \n",
    "    X = df_xgb.drop(['COL_LITR'], axis=1)#'CLIENT', 'AZS_NUMBER', \n",
    "    y = df_xgb[['COL_LITR']]\n",
    "    \n",
    "    return X, y"
   ]
  },
  {
   "cell_type": "code",
   "execution_count": 845,
   "metadata": {},
   "outputs": [],
   "source": [
    "X_train, y_train = train_xgb(df_train_xgb)"
   ]
  },
  {
   "cell_type": "code",
   "execution_count": 848,
   "metadata": {},
   "outputs": [],
   "source": [
    "X_test, y_test = train_xgb(df_test)"
   ]
  },
  {
   "cell_type": "code",
   "execution_count": 849,
   "metadata": {},
   "outputs": [],
   "source": [
    "from sklearn.ensemble import RandomForestRegressor, GradientBoostingRegressor\n",
    "from xgboost import XGBRegressor"
   ]
  },
  {
   "cell_type": "code",
   "execution_count": 875,
   "metadata": {},
   "outputs": [],
   "source": [
    "# regressor = RandomForestRegressor(n_estimators=200, n_jobs=30, verbose=1, max_depth=8)\n",
    "regressor = XGBRegressor(nthread=60, seed=2018, n_estimators=300, learning_rate=0.01, max_depth=10)"
   ]
  },
  {
   "cell_type": "code",
   "execution_count": 876,
   "metadata": {
    "scrolled": true
   },
   "outputs": [
    {
     "name": "stdout",
     "output_type": "stream",
     "text": [
      "CPU times: user 46min 23s, sys: 7.84 s, total: 46min 31s\n",
      "Wall time: 2min\n"
     ]
    },
    {
     "data": {
      "text/plain": [
       "XGBRegressor(base_score=0.5, colsample_bylevel=1, colsample_bytree=1, gamma=0,\n",
       "       learning_rate=0.01, max_delta_step=0, max_depth=10,\n",
       "       min_child_weight=1, missing=None, n_estimators=300, nthread=60,\n",
       "       objective='reg:linear', reg_alpha=0, reg_lambda=1,\n",
       "       scale_pos_weight=1, seed=2018, silent=True, subsample=1)"
      ]
     },
     "execution_count": 876,
     "metadata": {},
     "output_type": "execute_result"
    }
   ],
   "source": [
    "%%time\n",
    "regressor.fit(X_train.drop(['CLIENT', 'AZS_NUMBER'], axis=1), y_train)"
   ]
  },
  {
   "cell_type": "code",
   "execution_count": 867,
   "metadata": {},
   "outputs": [],
   "source": [
    "xgb_predict = regressor.predict(X_test.drop(['CLIENT', 'AZS_NUMBER'], axis=1))"
   ]
  },
  {
   "cell_type": "code",
   "execution_count": 868,
   "metadata": {},
   "outputs": [
    {
     "data": {
      "text/plain": [
       "43.940070884037254"
      ]
     },
     "execution_count": 868,
     "metadata": {},
     "output_type": "execute_result"
    }
   ],
   "source": [
    "ppred = regressor.predict(X_test.drop(['CLIENT', 'AZS_NUMBER'], axis=1))\n",
    "yy_test = [x[0] for x in y_test.as_matrix()]\n",
    "metrics(np.array(ppred), np.array(yy_test))\n",
    "# np.fabs(np.array(preditc) - np.array(y_test)) / (np.fabs(np.array(preditc)) + np.fabs(np.array(y_test))).mean()\n",
    "\n",
    "# np.fabs(np.array(preditc) - y_test.values)\n",
    "# yy_test"
   ]
  },
  {
   "cell_type": "code",
   "execution_count": null,
   "metadata": {},
   "outputs": [],
   "source": []
  },
  {
   "cell_type": "code",
   "execution_count": 814,
   "metadata": {},
   "outputs": [
    {
     "name": "stderr",
     "output_type": "stream",
     "text": [
      "/usr/anaconda3/lib/python3.6/site-packages/ipykernel_launcher.py:2: SettingWithCopyWarning: \n",
      "A value is trying to be set on a copy of a slice from a DataFrame.\n",
      "Try using .loc[row_indexer,col_indexer] = value instead\n",
      "\n",
      "See the caveats in the documentation: http://pandas.pydata.org/pandas-docs/stable/indexing.html#indexing-view-versus-copy\n",
      "  \n"
     ]
    }
   ],
   "source": [
    "df_test_pred = X_test[[\"CLIENT\", \"VID_NP\",\"REGION_AZS\", \"AZS_NUMBER\"]]\n",
    "df_test_pred['COL_LITR'] = xgb_predict"
   ]
  },
  {
   "cell_type": "code",
   "execution_count": 805,
   "metadata": {},
   "outputs": [],
   "source": [
    "with open('./kolesnikov_reg_2.pkl', 'wb') as f:\n",
    "    pickle.dump(regressor, f)"
   ]
  }
 ],
 "metadata": {
  "kernelspec": {
   "display_name": "Python 3",
   "language": "python",
   "name": "python3"
  },
  "language_info": {
   "codemirror_mode": {
    "name": "ipython",
    "version": 3
   },
   "file_extension": ".py",
   "mimetype": "text/x-python",
   "name": "python",
   "nbconvert_exporter": "python",
   "pygments_lexer": "ipython3",
   "version": "3.6.4"
  }
 },
 "nbformat": 4,
 "nbformat_minor": 2
}
